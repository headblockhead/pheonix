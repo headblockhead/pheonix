{
 "cells": [
  {
   "cell_type": "markdown",
   "metadata": {},
   "source": [
    "# Connect to the printer"
   ]
  },
  {
   "cell_type": "code",
   "execution_count": 1,
   "metadata": {},
   "outputs": [],
   "source": [
    "import ppa6\n",
    "\n",
    "printer = ppa6.Printer('00:15:83:15:bc:5f', ppa6.PrinterType.A6p)\n",
    "printer.connect()\n",
    "printer.reset()"
   ]
  },
  {
   "cell_type": "markdown",
   "metadata": {},
   "source": [
    "# Get information about printer"
   ]
  },
  {
   "cell_type": "code",
   "execution_count": 2,
   "metadata": {},
   "outputs": [
    {
     "name": "stdout",
     "output_type": "stream",
     "text": [
      "Name: b'PeriPage+BC5F'\n",
      "S/N: b'A6431928321'\n",
      "F/W: b'V2.11_304dpi'\n",
      "Battery: 38%\n",
      "H/W: b'BR2141e-s(A02)_B9_20190815_r3460'\n",
      "MAC: b'\\x00\\x15\\x83\\x15\\xbc_\\xc0\\x15\\x83\\x15\\xbc_'\n",
      "Full: b'PeriPage+BC5F|00:15:83:15:BC:5F|C0:15:83:15:BC:5F|V2.11_304dpi|A6431928321|38'\n"
     ]
    }
   ],
   "source": [
    "print(f'Name: {printer.getDeviceName()}')\n",
    "print(f'S/N: {printer.getDeviceSerialNumber()}')\n",
    "print(f'F/W: {printer.getDeviceFirmware()}')\n",
    "print(f'Battery: {printer.getDeviceBattery()}%')\n",
    "print(f'H/W: {printer.getDeviceHardware()}')\n",
    "print(f'MAC: {printer.getDeviceMAC()}')\n",
    "print(f'Full: {printer.getDeviceFull()}')"
   ]
  },
  {
   "cell_type": "markdown",
   "metadata": {},
   "source": [
    "# Sample print"
   ]
  },
  {
   "cell_type": "code",
   "execution_count": null,
   "metadata": {},
   "outputs": [],
   "source": [
    "printer.writeASCII('Hello World?\\n')\n",
    "printer.printBreak(100)"
   ]
  },
  {
   "cell_type": "markdown",
   "metadata": {},
   "source": [
    "# Print random image"
   ]
  },
  {
   "cell_type": "code",
   "execution_count": null,
   "metadata": {},
   "outputs": [],
   "source": [
    "imarray = numpy.random.rand(printer.getRowWidth(),printer.getRowWidth(), 3) * 255\n",
    "im = Image.fromarray(imarray.astype('uint8')).convert('L')\n",
    "\n",
    "# Set print concentration\n",
    "printer.setConcentration(1)\n",
    "\n",
    "# Print image & break\n",
    "printer.printImage(im)\n",
    "printer.printBreak(100)"
   ]
  },
  {
   "cell_type": "markdown",
   "metadata": {},
   "source": [
    "# Infinite print using generator"
   ]
  },
  {
   "cell_type": "code",
   "execution_count": null,
   "metadata": {},
   "outputs": [],
   "source": [
    "# Ping-pong slider\n",
    "def slider():\n",
    "    direct = True\n",
    "    pos = 0\n",
    "    while True:\n",
    "        s = '00' * pos + 'ff' + '00' * (printer.getRowBytes() - pos - 1)\n",
    "        if direct:\n",
    "            pos = pos + 1\n",
    "            if pos == printer.getRowBytes() - 1:\n",
    "                direct = False\n",
    "        else:\n",
    "            pos = pos - 1\n",
    "            if pos == 0:\n",
    "                direct = True\n",
    "        yield bytes.fromhex(s)\n",
    "\n",
    "# Infinite printing, slow\n",
    "printer.printRowBytesIterator(slider(), 0.25)"
   ]
  },
  {
   "cell_type": "markdown",
   "metadata": {},
   "source": [
    "# Print using generator in limited page length"
   ]
  },
  {
   "cell_type": "code",
   "execution_count": null,
   "metadata": {},
   "outputs": [],
   "source": [
    "# Ping-pong slider\n",
    "def slider():\n",
    "    direct = True\n",
    "    pos = 0\n",
    "    while True:\n",
    "        s = '00' * pos + 'ff' + '00' * (printer.getRowBytes() - pos - 1)\n",
    "        if direct:\n",
    "            pos = pos + 1\n",
    "            if pos == printer.getRowBytes() - 1:\n",
    "                direct = False\n",
    "        else:\n",
    "            pos = pos - 1\n",
    "            if pos == 0:\n",
    "                direct = True\n",
    "        yield bytes.fromhex(s)\n",
    "\n",
    "# Print on page 200 px length\n",
    "printer.printRowBytesIteratorOfSize(slider(), 200, 0.01)\n",
    "printer.printBreak(100)"
   ]
  },
  {
   "cell_type": "code",
   "execution_count": null,
   "metadata": {},
   "outputs": [],
   "source": [
    "import random\n",
    "\n",
    "# Random byte rows\n",
    "def rand():\n",
    "    while True:\n",
    "        s = ''.join([random.choice('0123456789abcdef') for n in range(printer.getRowWidth())])\n",
    "        yield s\n",
    "\n",
    "# Print on page 200 px length\n",
    "printer.printRowBytesIteratorOfSize(rand(), 200, 0.01)\n",
    "printer.printBreak(100)"
   ]
  }
 ],
 "metadata": {
  "kernelspec": {
   "display_name": "Python 3",
   "language": "python",
   "name": "python3"
  },
  "language_info": {
   "codemirror_mode": {
    "name": "ipython",
    "version": 3
   },
   "file_extension": ".py",
   "mimetype": "text/x-python",
   "name": "python",
   "nbconvert_exporter": "python",
   "pygments_lexer": "ipython3",
   "version": "3.7.9"
  }
 },
 "nbformat": 4,
 "nbformat_minor": 4
}
